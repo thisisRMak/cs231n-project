{
 "cells": [
  {
   "cell_type": "markdown",
   "metadata": {},
   "source": [
    "# Set device to GPU if available"
   ]
  },
  {
   "cell_type": "code",
   "execution_count": 1,
   "metadata": {},
   "outputs": [
    {
     "name": "stdout",
     "output_type": "stream",
     "text": [
      "Using device: cuda\n"
     ]
    }
   ],
   "source": [
    "import torch\n",
    "device = \"cuda\" if torch.cuda.is_available() else \"mps\" if torch.backends.mps.is_available() else \"cpu\"\n",
    "print(f\"Using device: {device}\")"
   ]
  },
  {
   "cell_type": "markdown",
   "metadata": {},
   "source": [
    "# Load Dataset"
   ]
  },
  {
   "cell_type": "code",
   "execution_count": 2,
   "metadata": {},
   "outputs": [
    {
     "name": "stdout",
     "output_type": "stream",
     "text": [
      "__init__ PetroSubImageDataset: dataset/Taskent\n",
      "         , image_indices=None\n",
      "         , sub_image_size=480\n",
      "__init__ BaseSubImageDataset with: dataset/Taskent/img\n",
      "         , image_indices=None\n",
      "         , sub_image_size=480\n",
      "         , mask=False\n",
      "__init__ BaseSubImageDataset with: dataset/Taskent/masks_machine\n",
      "         , image_indices=None\n",
      "         , sub_image_size=480\n",
      "         , mask=True\n"
     ]
    },
    {
     "name": "stderr",
     "output_type": "stream",
     "text": [
      "/home/ubuntu/cs231n-project/image_dataset.py:211: UserWarning: The given NumPy array is not writable, and PyTorch does not support non-writable tensors. This means writing to this tensor will result in undefined behavior. You may want to copy the array to protect its data or make it writable before converting it to a tensor. This type of warning will be suppressed for the rest of this program. (Triggered internally at /pytorch/torch/csrc/utils/tensor_numpy.cpp:203.)\n",
      "  images = torch.stack([torch.from_numpy(img) for img in images])\n"
     ]
    },
    {
     "name": "stdout",
     "output_type": "stream",
     "text": [
      "756\n",
      "252\n",
      "tensor([[[125, 132, 140,  ..., 132, 115, 113],\n",
      "         [133, 135, 131,  ..., 129, 115, 113],\n",
      "         [122, 122, 120,  ..., 134, 123, 115],\n",
      "         ...,\n",
      "         [134, 136, 126,  ..., 148, 148, 151],\n",
      "         [133, 128, 121,  ..., 158, 157, 162],\n",
      "         [136, 137, 139,  ..., 174, 171, 169]],\n",
      "\n",
      "        [[125, 132, 140,  ..., 132, 115, 113],\n",
      "         [133, 135, 131,  ..., 129, 115, 113],\n",
      "         [122, 122, 120,  ..., 134, 123, 115],\n",
      "         ...,\n",
      "         [134, 136, 126,  ..., 148, 148, 151],\n",
      "         [133, 128, 121,  ..., 158, 157, 162],\n",
      "         [136, 137, 139,  ..., 174, 171, 169]],\n",
      "\n",
      "        [[125, 132, 140,  ..., 132, 115, 113],\n",
      "         [133, 135, 131,  ..., 129, 115, 113],\n",
      "         [122, 122, 120,  ..., 134, 123, 115],\n",
      "         ...,\n",
      "         [134, 136, 126,  ..., 148, 148, 151],\n",
      "         [133, 128, 121,  ..., 158, 157, 162],\n",
      "         [136, 137, 139,  ..., 174, 171, 169]],\n",
      "\n",
      "        [[  2,   2,   2,  ...,   2,   2,   2],\n",
      "         [  2,   2,   2,  ...,   2,   2,   2],\n",
      "         [  1,   1,   1,  ...,   2,   2,   2],\n",
      "         ...,\n",
      "         [  1,   1,   1,  ...,   2,   2,   2],\n",
      "         [  1,   1,   1,  ...,   2,   2,   2],\n",
      "         [  1,   1,   1,  ...,   2,   2,   2]]], dtype=torch.uint8)\n",
      "tensor([[[130, 130, 125,  ..., 110, 109, 110],\n",
      "         [131, 129, 122,  ..., 113, 109, 112],\n",
      "         [118, 117, 111,  ...,  98,  99,  97],\n",
      "         ...,\n",
      "         [212, 208, 203,  ..., 125, 127, 132],\n",
      "         [203, 199, 196,  ..., 126, 127, 128],\n",
      "         [202, 197, 193,  ..., 139, 137, 138]],\n",
      "\n",
      "        [[130, 130, 125,  ..., 110, 109, 110],\n",
      "         [131, 129, 122,  ..., 113, 109, 112],\n",
      "         [118, 117, 111,  ...,  98,  99,  97],\n",
      "         ...,\n",
      "         [212, 208, 203,  ..., 125, 127, 132],\n",
      "         [203, 199, 196,  ..., 126, 127, 128],\n",
      "         [202, 197, 193,  ..., 139, 137, 138]],\n",
      "\n",
      "        [[130, 130, 125,  ..., 110, 109, 110],\n",
      "         [131, 129, 122,  ..., 113, 109, 112],\n",
      "         [118, 117, 111,  ...,  98,  99,  97],\n",
      "         ...,\n",
      "         [212, 208, 203,  ..., 125, 127, 132],\n",
      "         [203, 199, 196,  ..., 126, 127, 128],\n",
      "         [202, 197, 193,  ..., 139, 137, 138]],\n",
      "\n",
      "        [[  1,   1,   1,  ...,   1,   1,   1],\n",
      "         [  1,   1,   1,  ...,   1,   1,   1],\n",
      "         [  1,   1,   1,  ...,   1,   1,   1],\n",
      "         ...,\n",
      "         [  2,   2,   2,  ...,   2,   2,   2],\n",
      "         [  2,   2,   2,  ...,   2,   2,   2],\n",
      "         [  2,   2,   2,  ...,   2,   2,   2]]], dtype=torch.uint8)\n"
     ]
    }
   ],
   "source": [
    "dataset_path = f\"dataset/Taskent\"\n",
    "\n",
    "from image_dataset import *\n",
    "\n",
    "dataset = PetroTrainTestSplitDataset(folder_path=dataset_path)\n",
    "\n",
    "train_dataset = dataset['train']\n",
    "test_dataset = dataset['test']\n",
    "\n",
    "print(len(train_dataset))\n",
    "print(len(test_dataset))\n",
    "\n",
    "print(train_dataset[0])\n",
    "print(test_dataset[0])"
   ]
  },
  {
   "cell_type": "markdown",
   "metadata": {},
   "source": [
    "Load DINO Model and Helper Functions"
   ]
  },
  {
   "cell_type": "code",
   "execution_count": 3,
   "metadata": {},
   "outputs": [],
   "source": [
    "from torch.utils.data import DataLoader\n",
    "from clip_dino import DINOSegmentation, compute_iou\n",
    "from dino_model import DINOPatchClassifier\n",
    "from tqdm import tqdm\n",
    "from einops import rearrange\n",
    "import numpy as np"
   ]
  },
  {
   "cell_type": "code",
   "execution_count": 4,
   "metadata": {},
   "outputs": [
    {
     "name": "stderr",
     "output_type": "stream",
     "text": [
      "Using cache found in /home/ubuntu/.cache/torch/hub/facebookresearch_dino_main\n"
     ]
    },
    {
     "data": {
      "text/plain": [
       "VisionTransformer(\n",
       "  (patch_embed): PatchEmbed(\n",
       "    (proj): Conv2d(3, 384, kernel_size=(8, 8), stride=(8, 8))\n",
       "  )\n",
       "  (pos_drop): Dropout(p=0.0, inplace=False)\n",
       "  (blocks): ModuleList(\n",
       "    (0-11): 12 x Block(\n",
       "      (norm1): LayerNorm((384,), eps=1e-06, elementwise_affine=True)\n",
       "      (attn): Attention(\n",
       "        (qkv): Linear(in_features=384, out_features=1152, bias=True)\n",
       "        (attn_drop): Dropout(p=0.0, inplace=False)\n",
       "        (proj): Linear(in_features=384, out_features=384, bias=True)\n",
       "        (proj_drop): Dropout(p=0.0, inplace=False)\n",
       "      )\n",
       "      (drop_path): Identity()\n",
       "      (norm2): LayerNorm((384,), eps=1e-06, elementwise_affine=True)\n",
       "      (mlp): Mlp(\n",
       "        (fc1): Linear(in_features=384, out_features=1536, bias=True)\n",
       "        (act): GELU(approximate='none')\n",
       "        (fc2): Linear(in_features=1536, out_features=384, bias=True)\n",
       "        (drop): Dropout(p=0.0, inplace=False)\n",
       "      )\n",
       "    )\n",
       "  )\n",
       "  (norm): LayerNorm((384,), eps=1e-06, elementwise_affine=True)\n",
       "  (head): Identity()\n",
       ")"
      ]
     },
     "execution_count": 4,
     "metadata": {},
     "output_type": "execute_result"
    }
   ],
   "source": [
    "# Load smallest dino model. ViT-S/8. Here ViT-S has ~22M parameters and\n",
    "# works on 8x8 patches.\n",
    "dino_model = torch.hub.load('facebookresearch/dino:main', 'dino_vits8')\n",
    "dino_model.eval().to(device)"
   ]
  },
  {
   "cell_type": "code",
   "execution_count": 5,
   "metadata": {},
   "outputs": [],
   "source": [
    "from torchvision import transforms as T\n",
    "\n",
    "transform = T.Normalize((0.485, 0.456, 0.406), (0.229, 0.224, 0.225))\n",
    "\n",
    "# transform = T.Compose([\n",
    "#     # T.Resize((480, 480)),\n",
    "#     T.ToTensor(),\n",
    "#     T.Normalize((0.485, 0.456, 0.406), (0.229, 0.224, 0.225)),\n",
    "# ])\n"
   ]
  },
  {
   "cell_type": "code",
   "execution_count": 6,
   "metadata": {},
   "outputs": [],
   "source": [
    "def get_dino_tokens_batch(X_batch):\n",
    "\n",
    "    # X_batch.shape = [batch_size,480,480,3]\n",
    "\n",
    "    X_batch = X_batch.float() / 255.0 # normalize\n",
    "    # X_batch = X_batch.permute(0,3,1,2) # [N,H,W,C] -> [N,C,H,W]\n",
    "    X_transform = torch.stack([\n",
    "        transform(x) for x in X_batch\n",
    "    ])\n",
    "    X_transform = X_transform.to(device)\n",
    "\n",
    "    w, h = X_transform.shape[2:]\n",
    "    # 480,480\n",
    "\n",
    "    with torch.no_grad():\n",
    "        attn = dino_model.get_last_selfattention(X_transform)[:, :, 0, 1:]\n",
    "        # (N,6,3600)\n",
    "        # print(f\"attn.shape={attn.shape}\")\n",
    "        nh, tokens = attn.shape[1:]\n",
    "        w_feat, h_feat = w // 8, h // 8\n",
    "        attn = attn.reshape(-1, nh, w_feat, h_feat)\n",
    "        attn = torch.nn.functional.interpolate(attn, scale_factor=8, mode=\"nearest\").cpu().numpy()\n",
    "        all_tokens = dino_model.get_intermediate_layers(X_transform, n=1)[0]  # (N, 1+pixels, D)\n",
    "    return all_tokens.cpu()"
   ]
  },
  {
   "cell_type": "code",
   "execution_count": 7,
   "metadata": {},
   "outputs": [],
   "source": [
    "import numpy as np\n",
    "import torch\n",
    "from einops import rearrange\n",
    "from scipy.stats import mode\n",
    "\n",
    "def get_patchwise_mode(Y_batch):\n",
    "\n",
    "    if isinstance(Y_batch, torch.Tensor):\n",
    "        Y_batch = Y_batch.cpu().numpy()\n",
    "\n",
    "    # Rearrange to 8x8 patches\n",
    "    patches = rearrange(Y_batch, 'n (h ph) (w pw) -> n h w (ph pw)', ph=8, pw=8)\n",
    "    # shape: (N, H//8, W//8, 64)\n",
    "\n",
    "    # Compute mode along last axis\n",
    "    patch_modes = mode(patches, axis=-1).mode  # shape: (N, H//8, W//8)\n",
    "\n",
    "    return torch.tensor(patch_modes, dtype=torch.uint8)"
   ]
  },
  {
   "cell_type": "markdown",
   "metadata": {},
   "source": [
    "# WandB Login"
   ]
  },
  {
   "cell_type": "code",
   "execution_count": 8,
   "metadata": {},
   "outputs": [
    {
     "name": "stderr",
     "output_type": "stream",
     "text": [
      "\u001b[34m\u001b[1mwandb\u001b[0m: Currently logged in as: \u001b[33mthisisrmak\u001b[0m (\u001b[33mthisisrmak-stanford\u001b[0m) to \u001b[32mhttps://api.wandb.ai\u001b[0m. Use \u001b[1m`wandb login --relogin`\u001b[0m to force relogin\n"
     ]
    },
    {
     "data": {
      "text/plain": [
       "True"
      ]
     },
     "execution_count": 8,
     "metadata": {},
     "output_type": "execute_result"
    }
   ],
   "source": [
    "from dotenv import load_dotenv\n",
    "load_dotenv()\n",
    "\n",
    "import os\n",
    "\n",
    "os.environ[\"WANDB_API_KEY\"] = os.getenv(\"WANDB_API_KEY\")\n",
    "\n",
    "import wandb\n",
    "wandb.login()"
   ]
  },
  {
   "cell_type": "markdown",
   "metadata": {},
   "source": [
    "# Run train/test loop"
   ]
  },
  {
   "cell_type": "code",
   "execution_count": 9,
   "metadata": {},
   "outputs": [
    {
     "data": {
      "text/html": [
       "Tracking run with wandb version 0.20.1"
      ],
      "text/plain": [
       "<IPython.core.display.HTML object>"
      ]
     },
     "metadata": {},
     "output_type": "display_data"
    },
    {
     "data": {
      "text/html": [
       "Run data is saved locally in <code>/home/ubuntu/cs231n-project/wandb/run-20250611_130015-h1pka3c3</code>"
      ],
      "text/plain": [
       "<IPython.core.display.HTML object>"
      ]
     },
     "metadata": {},
     "output_type": "display_data"
    },
    {
     "data": {
      "text/html": [
       "Syncing run <strong><a href='https://wandb.ai/thisisrmak-stanford/dinov2-biotic-nb-10/runs/h1pka3c3' target=\"_blank\">run-patchwise-mode</a></strong> to <a href='https://wandb.ai/thisisrmak-stanford/dinov2-biotic-nb-10' target=\"_blank\">Weights & Biases</a> (<a href='https://wandb.me/developer-guide' target=\"_blank\">docs</a>)<br>"
      ],
      "text/plain": [
       "<IPython.core.display.HTML object>"
      ]
     },
     "metadata": {},
     "output_type": "display_data"
    },
    {
     "data": {
      "text/html": [
       " View project at <a href='https://wandb.ai/thisisrmak-stanford/dinov2-biotic-nb-10' target=\"_blank\">https://wandb.ai/thisisrmak-stanford/dinov2-biotic-nb-10</a>"
      ],
      "text/plain": [
       "<IPython.core.display.HTML object>"
      ]
     },
     "metadata": {},
     "output_type": "display_data"
    },
    {
     "data": {
      "text/html": [
       " View run at <a href='https://wandb.ai/thisisrmak-stanford/dinov2-biotic-nb-10/runs/h1pka3c3' target=\"_blank\">https://wandb.ai/thisisrmak-stanford/dinov2-biotic-nb-10/runs/h1pka3c3</a>"
      ],
      "text/plain": [
       "<IPython.core.display.HTML object>"
      ]
     },
     "metadata": {},
     "output_type": "display_data"
    },
    {
     "name": "stderr",
     "output_type": "stream",
     "text": [
      "Train Epoch 1/50: 100%|██████████| 12/12 [02:15<00:00, 11.29s/it, iou=0.04, loss=2.49]\n",
      "Val Epoch 1/50: 100%|██████████| 4/4 [00:45<00:00, 11.37s/it, iou=0.04, loss=1.63]\n"
     ]
    },
    {
     "name": "stdout",
     "output_type": "stream",
     "text": [
      "\n",
      "Epoch 1: Train Loss=2.3683, Acc=0.4466, IoU=0.0308 | Val Loss=1.7224, Acc=0.5650, IoU=0.0334\n",
      "\n"
     ]
    },
    {
     "name": "stderr",
     "output_type": "stream",
     "text": [
      "Train Epoch 2/50: 100%|██████████| 12/12 [02:17<00:00, 11.43s/it, iou=0.05, loss=1.58]\n",
      "Val Epoch 2/50: 100%|██████████| 4/4 [00:46<00:00, 11.54s/it, iou=0.05, loss=1.27]\n"
     ]
    },
    {
     "name": "stdout",
     "output_type": "stream",
     "text": [
      "\n",
      "Epoch 2: Train Loss=1.5737, Acc=0.5201, IoU=0.0414 | Val Loss=1.1276, Acc=0.5562, IoU=0.0506\n",
      "\n"
     ]
    },
    {
     "name": "stderr",
     "output_type": "stream",
     "text": [
      "Train Epoch 3/50: 100%|██████████| 12/12 [02:16<00:00, 11.36s/it, iou=0.07, loss=1.11]\n",
      "Val Epoch 3/50: 100%|██████████| 4/4 [00:45<00:00, 11.45s/it, iou=0.08, loss=0.99]\n"
     ]
    },
    {
     "name": "stdout",
     "output_type": "stream",
     "text": [
      "\n",
      "Epoch 3: Train Loss=1.1455, Acc=0.6102, IoU=0.0517 | Val Loss=0.9862, Acc=0.6514, IoU=0.0634\n",
      "\n"
     ]
    },
    {
     "name": "stderr",
     "output_type": "stream",
     "text": [
      "Train Epoch 4/50: 100%|██████████| 12/12 [02:15<00:00, 11.29s/it, iou=0.10, loss=1.10]\n",
      "Val Epoch 4/50: 100%|██████████| 4/4 [00:45<00:00, 11.32s/it, iou=0.11, loss=0.88]\n"
     ]
    },
    {
     "name": "stdout",
     "output_type": "stream",
     "text": [
      "\n",
      "Epoch 4: Train Loss=0.9442, Acc=0.6517, IoU=0.0650 | Val Loss=0.9706, Acc=0.6554, IoU=0.0751\n",
      "\n"
     ]
    },
    {
     "name": "stderr",
     "output_type": "stream",
     "text": [
      "Train Epoch 5/50: 100%|██████████| 12/12 [02:17<00:00, 11.42s/it, iou=0.09, loss=1.01]\n",
      "Val Epoch 5/50: 100%|██████████| 4/4 [00:43<00:00, 10.99s/it, iou=0.11, loss=0.87]\n"
     ]
    },
    {
     "name": "stdout",
     "output_type": "stream",
     "text": [
      "\n",
      "Epoch 5: Train Loss=0.9849, Acc=0.6155, IoU=0.0578 | Val Loss=0.9146, Acc=0.6670, IoU=0.0777\n",
      "\n",
      "Saved model checkpoint to model_checkpoint_epoch_5.pth\n"
     ]
    },
    {
     "name": "stderr",
     "output_type": "stream",
     "text": [
      "Train Epoch 6/50: 100%|██████████| 12/12 [02:16<00:00, 11.34s/it, iou=0.12, loss=0.90]\n",
      "Val Epoch 6/50: 100%|██████████| 4/4 [00:44<00:00, 11.17s/it, iou=0.13, loss=0.78]\n"
     ]
    },
    {
     "name": "stdout",
     "output_type": "stream",
     "text": [
      "\n",
      "Epoch 6: Train Loss=0.8820, Acc=0.6639, IoU=0.0690 | Val Loss=0.8926, Acc=0.6830, IoU=0.0848\n",
      "\n"
     ]
    },
    {
     "name": "stderr",
     "output_type": "stream",
     "text": [
      "Train Epoch 7/50: 100%|██████████| 12/12 [02:15<00:00, 11.28s/it, iou=0.12, loss=0.83]\n",
      "Val Epoch 7/50: 100%|██████████| 4/4 [00:44<00:00, 11.16s/it, iou=0.13, loss=0.76]\n"
     ]
    },
    {
     "name": "stdout",
     "output_type": "stream",
     "text": [
      "\n",
      "Epoch 7: Train Loss=0.8658, Acc=0.6635, IoU=0.0694 | Val Loss=0.8610, Acc=0.6916, IoU=0.0868\n",
      "\n"
     ]
    },
    {
     "name": "stderr",
     "output_type": "stream",
     "text": [
      "Train Epoch 8/50: 100%|██████████| 12/12 [02:14<00:00, 11.23s/it, iou=0.13, loss=0.79]\n",
      "Val Epoch 8/50: 100%|██████████| 4/4 [00:45<00:00, 11.26s/it, iou=0.13, loss=0.75]\n"
     ]
    },
    {
     "name": "stdout",
     "output_type": "stream",
     "text": [
      "\n",
      "Epoch 8: Train Loss=0.8426, Acc=0.6724, IoU=0.0737 | Val Loss=0.8508, Acc=0.6948, IoU=0.0898\n",
      "\n"
     ]
    },
    {
     "name": "stderr",
     "output_type": "stream",
     "text": [
      "Train Epoch 9/50: 100%|██████████| 12/12 [02:15<00:00, 11.30s/it, iou=0.14, loss=0.74]\n",
      "Val Epoch 9/50: 100%|██████████| 4/4 [00:45<00:00, 11.27s/it, iou=0.14, loss=0.73]\n"
     ]
    },
    {
     "name": "stdout",
     "output_type": "stream",
     "text": [
      "\n",
      "Epoch 9: Train Loss=0.8178, Acc=0.6820, IoU=0.0761 | Val Loss=0.8374, Acc=0.7005, IoU=0.0931\n",
      "\n"
     ]
    },
    {
     "name": "stderr",
     "output_type": "stream",
     "text": [
      "Train Epoch 10/50: 100%|██████████| 12/12 [02:17<00:00, 11.44s/it, iou=0.15, loss=0.69]\n",
      "Val Epoch 10/50: 100%|██████████| 4/4 [00:44<00:00, 11.19s/it, iou=0.14, loss=0.71]\n"
     ]
    },
    {
     "name": "stdout",
     "output_type": "stream",
     "text": [
      "\n",
      "Epoch 10: Train Loss=0.7899, Acc=0.6934, IoU=0.0799 | Val Loss=0.8190, Acc=0.7074, IoU=0.0943\n",
      "\n",
      "Saved model checkpoint to model_checkpoint_epoch_10.pth\n"
     ]
    },
    {
     "name": "stderr",
     "output_type": "stream",
     "text": [
      "Train Epoch 11/50: 100%|██████████| 12/12 [02:15<00:00, 11.29s/it, iou=0.16, loss=0.66]\n",
      "Val Epoch 11/50: 100%|██████████| 4/4 [00:44<00:00, 11.09s/it, iou=0.14, loss=0.70]\n"
     ]
    },
    {
     "name": "stdout",
     "output_type": "stream",
     "text": [
      "\n",
      "Epoch 11: Train Loss=0.7686, Acc=0.7014, IoU=0.0824 | Val Loss=0.8079, Acc=0.7121, IoU=0.0967\n",
      "\n"
     ]
    },
    {
     "name": "stderr",
     "output_type": "stream",
     "text": [
      "Train Epoch 12/50: 100%|██████████| 12/12 [02:16<00:00, 11.36s/it, iou=0.16, loss=0.64]\n",
      "Val Epoch 12/50: 100%|██████████| 4/4 [00:44<00:00, 11.16s/it, iou=0.14, loss=0.69]\n"
     ]
    },
    {
     "name": "stdout",
     "output_type": "stream",
     "text": [
      "\n",
      "Epoch 12: Train Loss=0.7528, Acc=0.7067, IoU=0.0847 | Val Loss=0.8011, Acc=0.7148, IoU=0.0978\n",
      "\n"
     ]
    },
    {
     "name": "stderr",
     "output_type": "stream",
     "text": [
      "Train Epoch 13/50: 100%|██████████| 12/12 [02:17<00:00, 11.43s/it, iou=0.16, loss=0.62]\n",
      "Val Epoch 13/50: 100%|██████████| 4/4 [00:45<00:00, 11.36s/it, iou=0.14, loss=0.68]\n"
     ]
    },
    {
     "name": "stdout",
     "output_type": "stream",
     "text": [
      "\n",
      "Epoch 13: Train Loss=0.7388, Acc=0.7124, IoU=0.0870 | Val Loss=0.7923, Acc=0.7180, IoU=0.0995\n",
      "\n"
     ]
    },
    {
     "name": "stderr",
     "output_type": "stream",
     "text": [
      "Train Epoch 14/50: 100%|██████████| 12/12 [02:16<00:00, 11.36s/it, iou=0.17, loss=0.59]\n",
      "Val Epoch 14/50: 100%|██████████| 4/4 [00:45<00:00, 11.38s/it, iou=0.15, loss=0.67]\n"
     ]
    },
    {
     "name": "stdout",
     "output_type": "stream",
     "text": [
      "\n",
      "Epoch 14: Train Loss=0.7191, Acc=0.7210, IoU=0.0899 | Val Loss=0.7851, Acc=0.7211, IoU=0.1002\n",
      "\n"
     ]
    },
    {
     "name": "stderr",
     "output_type": "stream",
     "text": [
      "Train Epoch 15/50: 100%|██████████| 12/12 [02:16<00:00, 11.35s/it, iou=0.17, loss=0.57]\n",
      "Val Epoch 15/50: 100%|██████████| 4/4 [00:45<00:00, 11.32s/it, iou=0.15, loss=0.66]\n"
     ]
    },
    {
     "name": "stdout",
     "output_type": "stream",
     "text": [
      "\n",
      "Epoch 15: Train Loss=0.7033, Acc=0.7278, IoU=0.0923 | Val Loss=0.7751, Acc=0.7251, IoU=0.1019\n",
      "\n",
      "Saved model checkpoint to model_checkpoint_epoch_15.pth\n"
     ]
    },
    {
     "name": "stderr",
     "output_type": "stream",
     "text": [
      "Train Epoch 16/50: 100%|██████████| 12/12 [02:16<00:00, 11.40s/it, iou=0.17, loss=0.55]\n",
      "Val Epoch 16/50: 100%|██████████| 4/4 [00:45<00:00, 11.45s/it, iou=0.15, loss=0.66]\n"
     ]
    },
    {
     "name": "stdout",
     "output_type": "stream",
     "text": [
      "\n",
      "Epoch 16: Train Loss=0.6880, Acc=0.7337, IoU=0.0947 | Val Loss=0.7689, Acc=0.7280, IoU=0.1022\n",
      "\n"
     ]
    },
    {
     "name": "stderr",
     "output_type": "stream",
     "text": [
      "Train Epoch 17/50: 100%|██████████| 12/12 [02:14<00:00, 11.25s/it, iou=0.17, loss=0.54]\n",
      "Val Epoch 17/50: 100%|██████████| 4/4 [00:45<00:00, 11.43s/it, iou=0.15, loss=0.65]\n"
     ]
    },
    {
     "name": "stdout",
     "output_type": "stream",
     "text": [
      "\n",
      "Epoch 17: Train Loss=0.6778, Acc=0.7379, IoU=0.0968 | Val Loss=0.7620, Acc=0.7303, IoU=0.1041\n",
      "\n"
     ]
    },
    {
     "name": "stderr",
     "output_type": "stream",
     "text": [
      "Train Epoch 18/50: 100%|██████████| 12/12 [02:17<00:00, 11.45s/it, iou=0.17, loss=0.53]\n",
      "Val Epoch 18/50: 100%|██████████| 4/4 [00:45<00:00, 11.48s/it, iou=0.15, loss=0.65]\n"
     ]
    },
    {
     "name": "stdout",
     "output_type": "stream",
     "text": [
      "\n",
      "Epoch 18: Train Loss=0.6658, Acc=0.7433, IoU=0.0990 | Val Loss=0.7604, Acc=0.7308, IoU=0.1039\n",
      "\n"
     ]
    },
    {
     "name": "stderr",
     "output_type": "stream",
     "text": [
      "Train Epoch 19/50: 100%|██████████| 12/12 [02:16<00:00, 11.38s/it, iou=0.18, loss=0.51]\n",
      "Val Epoch 19/50: 100%|██████████| 4/4 [00:45<00:00, 11.47s/it, iou=0.15, loss=0.64]\n"
     ]
    },
    {
     "name": "stdout",
     "output_type": "stream",
     "text": [
      "\n",
      "Epoch 19: Train Loss=0.6547, Acc=0.7487, IoU=0.1013 | Val Loss=0.7530, Acc=0.7331, IoU=0.1055\n",
      "\n"
     ]
    },
    {
     "name": "stderr",
     "output_type": "stream",
     "text": [
      "Train Epoch 20/50: 100%|██████████| 12/12 [02:19<00:00, 11.62s/it, iou=0.18, loss=0.50]\n",
      "Val Epoch 20/50: 100%|██████████| 4/4 [00:45<00:00, 11.45s/it, iou=0.15, loss=0.64]\n"
     ]
    },
    {
     "name": "stdout",
     "output_type": "stream",
     "text": [
      "\n",
      "Epoch 20: Train Loss=0.6405, Acc=0.7551, IoU=0.1039 | Val Loss=0.7480, Acc=0.7359, IoU=0.1058\n",
      "\n",
      "Saved model checkpoint to model_checkpoint_epoch_20.pth\n"
     ]
    },
    {
     "name": "stderr",
     "output_type": "stream",
     "text": [
      "Train Epoch 21/50: 100%|██████████| 12/12 [02:16<00:00, 11.38s/it, iou=0.20, loss=0.49]\n",
      "Val Epoch 21/50: 100%|██████████| 4/4 [00:44<00:00, 11.22s/it, iou=0.15, loss=0.63]\n"
     ]
    },
    {
     "name": "stdout",
     "output_type": "stream",
     "text": [
      "\n",
      "Epoch 21: Train Loss=0.6298, Acc=0.7597, IoU=0.1076 | Val Loss=0.7400, Acc=0.7390, IoU=0.1085\n",
      "\n"
     ]
    },
    {
     "name": "stderr",
     "output_type": "stream",
     "text": [
      "Train Epoch 22/50: 100%|██████████| 12/12 [02:17<00:00, 11.46s/it, iou=0.22, loss=0.48]\n",
      "Val Epoch 22/50: 100%|██████████| 4/4 [00:45<00:00, 11.50s/it, iou=0.15, loss=0.63]\n"
     ]
    },
    {
     "name": "stdout",
     "output_type": "stream",
     "text": [
      "\n",
      "Epoch 22: Train Loss=0.6204, Acc=0.7634, IoU=0.1105 | Val Loss=0.7384, Acc=0.7403, IoU=0.1095\n",
      "\n"
     ]
    },
    {
     "name": "stderr",
     "output_type": "stream",
     "text": [
      "Train Epoch 23/50: 100%|██████████| 12/12 [02:16<00:00, 11.40s/it, iou=0.23, loss=0.47]\n",
      "Val Epoch 23/50: 100%|██████████| 4/4 [00:46<00:00, 11.61s/it, iou=0.16, loss=0.63]\n"
     ]
    },
    {
     "name": "stdout",
     "output_type": "stream",
     "text": [
      "\n",
      "Epoch 23: Train Loss=0.6131, Acc=0.7670, IoU=0.1136 | Val Loss=0.7363, Acc=0.7407, IoU=0.1149\n",
      "\n"
     ]
    },
    {
     "name": "stderr",
     "output_type": "stream",
     "text": [
      "Train Epoch 24/50: 100%|██████████| 12/12 [02:16<00:00, 11.36s/it, iou=0.23, loss=0.46]\n",
      "Val Epoch 24/50: 100%|██████████| 4/4 [00:45<00:00, 11.40s/it, iou=0.15, loss=0.63]\n"
     ]
    },
    {
     "name": "stdout",
     "output_type": "stream",
     "text": [
      "\n",
      "Epoch 24: Train Loss=0.6065, Acc=0.7702, IoU=0.1139 | Val Loss=0.7343, Acc=0.7417, IoU=0.1173\n",
      "\n"
     ]
    },
    {
     "name": "stderr",
     "output_type": "stream",
     "text": [
      "Train Epoch 25/50: 100%|██████████| 12/12 [02:15<00:00, 11.33s/it, iou=0.24, loss=0.45]\n",
      "Val Epoch 25/50: 100%|██████████| 4/4 [00:45<00:00, 11.32s/it, iou=0.16, loss=0.63]\n"
     ]
    },
    {
     "name": "stdout",
     "output_type": "stream",
     "text": [
      "\n",
      "Epoch 25: Train Loss=0.5946, Acc=0.7761, IoU=0.1177 | Val Loss=0.7328, Acc=0.7428, IoU=0.1206\n",
      "\n",
      "Saved model checkpoint to model_checkpoint_epoch_25.pth\n"
     ]
    },
    {
     "name": "stderr",
     "output_type": "stream",
     "text": [
      "Train Epoch 26/50: 100%|██████████| 12/12 [02:17<00:00, 11.46s/it, iou=0.24, loss=0.44]\n",
      "Val Epoch 26/50: 100%|██████████| 4/4 [00:46<00:00, 11.50s/it, iou=0.15, loss=0.63]\n"
     ]
    },
    {
     "name": "stdout",
     "output_type": "stream",
     "text": [
      "\n",
      "Epoch 26: Train Loss=0.5910, Acc=0.7782, IoU=0.1160 | Val Loss=0.7250, Acc=0.7468, IoU=0.1205\n",
      "\n"
     ]
    },
    {
     "name": "stderr",
     "output_type": "stream",
     "text": [
      "Train Epoch 27/50: 100%|██████████| 12/12 [02:16<00:00, 11.37s/it, iou=0.24, loss=0.43]\n",
      "Val Epoch 27/50: 100%|██████████| 4/4 [00:45<00:00, 11.43s/it, iou=0.16, loss=0.62]\n"
     ]
    },
    {
     "name": "stdout",
     "output_type": "stream",
     "text": [
      "\n",
      "Epoch 27: Train Loss=0.5756, Acc=0.7843, IoU=0.1209 | Val Loss=0.7252, Acc=0.7477, IoU=0.1226\n",
      "\n"
     ]
    },
    {
     "name": "stderr",
     "output_type": "stream",
     "text": [
      "Train Epoch 28/50: 100%|██████████| 12/12 [02:15<00:00, 11.31s/it, iou=0.24, loss=0.43]\n",
      "Val Epoch 28/50: 100%|██████████| 4/4 [00:45<00:00, 11.46s/it, iou=0.15, loss=0.64]\n"
     ]
    },
    {
     "name": "stdout",
     "output_type": "stream",
     "text": [
      "\n",
      "Epoch 28: Train Loss=0.5832, Acc=0.7826, IoU=0.1172 | Val Loss=0.7214, Acc=0.7504, IoU=0.1197\n",
      "\n"
     ]
    },
    {
     "name": "stderr",
     "output_type": "stream",
     "text": [
      "Train Epoch 29/50: 100%|██████████| 12/12 [02:16<00:00, 11.41s/it, iou=0.24, loss=0.42]\n",
      "Val Epoch 29/50: 100%|██████████| 4/4 [00:45<00:00, 11.34s/it, iou=0.16, loss=0.62]\n"
     ]
    },
    {
     "name": "stdout",
     "output_type": "stream",
     "text": [
      "\n",
      "Epoch 29: Train Loss=0.5655, Acc=0.7888, IoU=0.1220 | Val Loss=0.7215, Acc=0.7486, IoU=0.1235\n",
      "\n"
     ]
    },
    {
     "name": "stderr",
     "output_type": "stream",
     "text": [
      "Train Epoch 30/50: 100%|██████████| 12/12 [02:15<00:00, 11.25s/it, iou=0.24, loss=0.43]\n",
      "Val Epoch 30/50: 100%|██████████| 4/4 [00:45<00:00, 11.40s/it, iou=0.15, loss=0.65]\n"
     ]
    },
    {
     "name": "stdout",
     "output_type": "stream",
     "text": [
      "\n",
      "Epoch 30: Train Loss=0.5757, Acc=0.7869, IoU=0.1186 | Val Loss=0.7260, Acc=0.7499, IoU=0.1179\n",
      "\n",
      "Saved model checkpoint to model_checkpoint_epoch_30.pth\n"
     ]
    },
    {
     "name": "stderr",
     "output_type": "stream",
     "text": [
      "Train Epoch 31/50: 100%|██████████| 12/12 [02:16<00:00, 11.41s/it, iou=0.24, loss=0.42]\n",
      "Val Epoch 31/50: 100%|██████████| 4/4 [00:45<00:00, 11.39s/it, iou=0.17, loss=0.62]\n"
     ]
    },
    {
     "name": "stdout",
     "output_type": "stream",
     "text": [
      "\n",
      "Epoch 31: Train Loss=0.5566, Acc=0.7946, IoU=0.1219 | Val Loss=0.7171, Acc=0.7501, IoU=0.1257\n",
      "\n"
     ]
    },
    {
     "name": "stderr",
     "output_type": "stream",
     "text": [
      "Train Epoch 32/50: 100%|██████████| 12/12 [02:16<00:00, 11.34s/it, iou=0.24, loss=0.42]\n",
      "Val Epoch 32/50: 100%|██████████| 4/4 [00:46<00:00, 11.54s/it, iou=0.15, loss=0.64]\n"
     ]
    },
    {
     "name": "stdout",
     "output_type": "stream",
     "text": [
      "\n",
      "Epoch 32: Train Loss=0.5577, Acc=0.7937, IoU=0.1208 | Val Loss=0.7234, Acc=0.7529, IoU=0.1174\n",
      "\n"
     ]
    },
    {
     "name": "stderr",
     "output_type": "stream",
     "text": [
      "Train Epoch 33/50: 100%|██████████| 12/12 [02:17<00:00, 11.46s/it, iou=0.23, loss=0.44]\n",
      "Val Epoch 33/50: 100%|██████████| 4/4 [00:44<00:00, 11.06s/it, iou=0.17, loss=0.63]\n"
     ]
    },
    {
     "name": "stdout",
     "output_type": "stream",
     "text": [
      "\n",
      "Epoch 33: Train Loss=0.5515, Acc=0.7989, IoU=0.1205 | Val Loss=0.7108, Acc=0.7547, IoU=0.1264\n",
      "\n"
     ]
    },
    {
     "name": "stderr",
     "output_type": "stream",
     "text": [
      "Train Epoch 34/50: 100%|██████████| 12/12 [02:17<00:00, 11.45s/it, iou=0.24, loss=0.41]\n",
      "Val Epoch 34/50: 100%|██████████| 4/4 [00:45<00:00, 11.32s/it, iou=0.15, loss=0.63]\n"
     ]
    },
    {
     "name": "stdout",
     "output_type": "stream",
     "text": [
      "\n",
      "Epoch 34: Train Loss=0.5430, Acc=0.7991, IoU=0.1236 | Val Loss=0.7223, Acc=0.7552, IoU=0.1179\n",
      "\n"
     ]
    },
    {
     "name": "stderr",
     "output_type": "stream",
     "text": [
      "Train Epoch 35/50: 100%|██████████| 12/12 [02:18<00:00, 11.57s/it, iou=0.23, loss=0.47]\n",
      "Val Epoch 35/50: 100%|██████████| 4/4 [00:46<00:00, 11.63s/it, iou=0.17, loss=0.65]\n"
     ]
    },
    {
     "name": "stdout",
     "output_type": "stream",
     "text": [
      "\n",
      "Epoch 35: Train Loss=0.5540, Acc=0.7995, IoU=0.1193 | Val Loss=0.7202, Acc=0.7524, IoU=0.1254\n",
      "\n",
      "Saved model checkpoint to model_checkpoint_epoch_35.pth\n"
     ]
    },
    {
     "name": "stderr",
     "output_type": "stream",
     "text": [
      "Train Epoch 36/50: 100%|██████████| 12/12 [02:17<00:00, 11.49s/it, iou=0.25, loss=0.39]\n",
      "Val Epoch 36/50: 100%|██████████| 4/4 [00:45<00:00, 11.43s/it, iou=0.16, loss=0.62]\n"
     ]
    },
    {
     "name": "stdout",
     "output_type": "stream",
     "text": [
      "\n",
      "Epoch 36: Train Loss=0.5286, Acc=0.8049, IoU=0.1279 | Val Loss=0.7233, Acc=0.7523, IoU=0.1197\n",
      "\n"
     ]
    },
    {
     "name": "stderr",
     "output_type": "stream",
     "text": [
      "Train Epoch 37/50: 100%|██████████| 12/12 [02:17<00:00, 11.49s/it, iou=0.24, loss=0.43]\n",
      "Val Epoch 37/50: 100%|██████████| 4/4 [00:45<00:00, 11.41s/it, iou=0.17, loss=0.65]\n"
     ]
    },
    {
     "name": "stdout",
     "output_type": "stream",
     "text": [
      "\n",
      "Epoch 37: Train Loss=0.5409, Acc=0.8034, IoU=0.1234 | Val Loss=0.7132, Acc=0.7544, IoU=0.1252\n",
      "\n"
     ]
    },
    {
     "name": "stderr",
     "output_type": "stream",
     "text": [
      "Train Epoch 38/50: 100%|██████████| 12/12 [02:17<00:00, 11.48s/it, iou=0.25, loss=0.37]\n",
      "Val Epoch 38/50: 100%|██████████| 4/4 [00:47<00:00, 11.81s/it, iou=0.17, loss=0.60]\n"
     ]
    },
    {
     "name": "stdout",
     "output_type": "stream",
     "text": [
      "\n",
      "Epoch 38: Train Loss=0.5044, Acc=0.8150, IoU=0.1331 | Val Loss=0.7205, Acc=0.7552, IoU=0.1214\n",
      "\n"
     ]
    },
    {
     "name": "stderr",
     "output_type": "stream",
     "text": [
      "Train Epoch 39/50: 100%|██████████| 12/12 [02:16<00:00, 11.39s/it, iou=0.25, loss=0.39]\n",
      "Val Epoch 39/50: 100%|██████████| 4/4 [00:46<00:00, 11.64s/it, iou=0.17, loss=0.63]\n"
     ]
    },
    {
     "name": "stdout",
     "output_type": "stream",
     "text": [
      "\n",
      "Epoch 39: Train Loss=0.5295, Acc=0.8069, IoU=0.1277 | Val Loss=0.7002, Acc=0.7612, IoU=0.1259\n",
      "\n"
     ]
    },
    {
     "name": "stderr",
     "output_type": "stream",
     "text": [
      "Train Epoch 40/50: 100%|██████████| 12/12 [02:15<00:00, 11.25s/it, iou=0.25, loss=0.36]\n",
      "Val Epoch 40/50: 100%|██████████| 4/4 [00:48<00:00, 12.04s/it, iou=0.17, loss=0.60]\n"
     ]
    },
    {
     "name": "stdout",
     "output_type": "stream",
     "text": [
      "\n",
      "Epoch 40: Train Loss=0.4943, Acc=0.8176, IoU=0.1345 | Val Loss=0.7163, Acc=0.7579, IoU=0.1213\n",
      "\n",
      "Saved model checkpoint to model_checkpoint_epoch_40.pth\n"
     ]
    },
    {
     "name": "stderr",
     "output_type": "stream",
     "text": [
      "Train Epoch 41/50: 100%|██████████| 12/12 [02:18<00:00, 11.51s/it, iou=0.25, loss=0.39]\n",
      "Val Epoch 41/50: 100%|██████████| 4/4 [00:47<00:00, 11.83s/it, iou=0.17, loss=0.64]\n"
     ]
    },
    {
     "name": "stdout",
     "output_type": "stream",
     "text": [
      "\n",
      "Epoch 41: Train Loss=0.5257, Acc=0.8089, IoU=0.1316 | Val Loss=0.7095, Acc=0.7581, IoU=0.1255\n",
      "\n"
     ]
    },
    {
     "name": "stderr",
     "output_type": "stream",
     "text": [
      "Train Epoch 42/50: 100%|██████████| 12/12 [02:19<00:00, 11.61s/it, iou=0.25, loss=0.36]\n",
      "Val Epoch 42/50: 100%|██████████| 4/4 [00:45<00:00, 11.48s/it, iou=0.18, loss=0.61]\n"
     ]
    },
    {
     "name": "stdout",
     "output_type": "stream",
     "text": [
      "\n",
      "Epoch 42: Train Loss=0.4975, Acc=0.8166, IoU=0.1330 | Val Loss=0.7217, Acc=0.7512, IoU=0.1241\n",
      "\n"
     ]
    },
    {
     "name": "stderr",
     "output_type": "stream",
     "text": [
      "Train Epoch 43/50: 100%|██████████| 12/12 [02:17<00:00, 11.43s/it, iou=0.25, loss=0.37]\n",
      "Val Epoch 43/50: 100%|██████████| 4/4 [00:46<00:00, 11.56s/it, iou=0.17, loss=0.65]\n"
     ]
    },
    {
     "name": "stdout",
     "output_type": "stream",
     "text": [
      "\n",
      "Epoch 43: Train Loss=0.5158, Acc=0.8129, IoU=0.1353 | Val Loss=0.7189, Acc=0.7559, IoU=0.1233\n",
      "\n"
     ]
    },
    {
     "name": "stderr",
     "output_type": "stream",
     "text": [
      "Train Epoch 44/50: 100%|██████████| 12/12 [02:15<00:00, 11.31s/it, iou=0.25, loss=0.34]\n",
      "Val Epoch 44/50: 100%|██████████| 4/4 [00:45<00:00, 11.36s/it, iou=0.18, loss=0.61]\n"
     ]
    },
    {
     "name": "stdout",
     "output_type": "stream",
     "text": [
      "\n",
      "Epoch 44: Train Loss=0.4949, Acc=0.8202, IoU=0.1306 | Val Loss=0.6997, Acc=0.7597, IoU=0.1268\n",
      "\n"
     ]
    },
    {
     "name": "stderr",
     "output_type": "stream",
     "text": [
      "Train Epoch 45/50: 100%|██████████| 12/12 [02:16<00:00, 11.40s/it, iou=0.25, loss=0.35]\n",
      "Val Epoch 45/50: 100%|██████████| 4/4 [00:46<00:00, 11.54s/it, iou=0.17, loss=0.64]\n"
     ]
    },
    {
     "name": "stdout",
     "output_type": "stream",
     "text": [
      "\n",
      "Epoch 45: Train Loss=0.4904, Acc=0.8226, IoU=0.1382 | Val Loss=0.7153, Acc=0.7622, IoU=0.1209\n",
      "\n",
      "Saved model checkpoint to model_checkpoint_epoch_45.pth\n"
     ]
    },
    {
     "name": "stderr",
     "output_type": "stream",
     "text": [
      "Train Epoch 46/50: 100%|██████████| 12/12 [02:16<00:00, 11.33s/it, iou=0.25, loss=0.35]\n",
      "Val Epoch 46/50: 100%|██████████| 4/4 [00:47<00:00, 11.89s/it, iou=0.18, loss=0.65]\n"
     ]
    },
    {
     "name": "stdout",
     "output_type": "stream",
     "text": [
      "\n",
      "Epoch 46: Train Loss=0.5044, Acc=0.8213, IoU=0.1278 | Val Loss=0.6963, Acc=0.7675, IoU=0.1281\n",
      "\n"
     ]
    },
    {
     "name": "stderr",
     "output_type": "stream",
     "text": [
      "Train Epoch 47/50: 100%|██████████| 12/12 [02:16<00:00, 11.34s/it, iou=0.26, loss=0.34]\n",
      "Val Epoch 47/50: 100%|██████████| 4/4 [00:44<00:00, 11.16s/it, iou=0.18, loss=0.61]\n"
     ]
    },
    {
     "name": "stdout",
     "output_type": "stream",
     "text": [
      "\n",
      "Epoch 47: Train Loss=0.4726, Acc=0.8283, IoU=0.1402 | Val Loss=0.7028, Acc=0.7635, IoU=0.1236\n",
      "\n"
     ]
    },
    {
     "name": "stderr",
     "output_type": "stream",
     "text": [
      "Train Epoch 48/50: 100%|██████████| 12/12 [02:15<00:00, 11.27s/it, iou=0.25, loss=0.38]\n",
      "Val Epoch 48/50: 100%|██████████| 4/4 [00:45<00:00, 11.41s/it, iou=0.18, loss=0.65]\n"
     ]
    },
    {
     "name": "stdout",
     "output_type": "stream",
     "text": [
      "\n",
      "Epoch 48: Train Loss=0.4898, Acc=0.8223, IoU=0.1313 | Val Loss=0.7050, Acc=0.7589, IoU=0.1285\n",
      "\n"
     ]
    },
    {
     "name": "stderr",
     "output_type": "stream",
     "text": [
      "Train Epoch 49/50: 100%|██████████| 12/12 [02:17<00:00, 11.44s/it, iou=0.26, loss=0.34]\n",
      "Val Epoch 49/50: 100%|██████████| 4/4 [00:46<00:00, 11.63s/it, iou=0.19, loss=0.61]\n"
     ]
    },
    {
     "name": "stdout",
     "output_type": "stream",
     "text": [
      "\n",
      "Epoch 49: Train Loss=0.4698, Acc=0.8290, IoU=0.1418 | Val Loss=0.7153, Acc=0.7588, IoU=0.1229\n",
      "\n"
     ]
    },
    {
     "name": "stderr",
     "output_type": "stream",
     "text": [
      "Train Epoch 50/50: 100%|██████████| 12/12 [02:19<00:00, 11.62s/it, iou=0.25, loss=0.38]\n",
      "Val Epoch 50/50: 100%|██████████| 4/4 [00:46<00:00, 11.51s/it, iou=0.18, loss=0.66]\n",
      "\u001b[34m\u001b[1mwandb\u001b[0m: \u001b[32m\u001b[41mERROR\u001b[0m The nbformat package was not found. It is required to save notebook history.\n"
     ]
    },
    {
     "name": "stdout",
     "output_type": "stream",
     "text": [
      "\n",
      "Epoch 50: Train Loss=0.4834, Acc=0.8253, IoU=0.1354 | Val Loss=0.7097, Acc=0.7581, IoU=0.1277\n",
      "\n",
      "Saved model checkpoint to model_checkpoint_epoch_50.pth\n"
     ]
    },
    {
     "data": {
      "text/html": [],
      "text/plain": [
       "<IPython.core.display.HTML object>"
      ]
     },
     "metadata": {},
     "output_type": "display_data"
    },
    {
     "data": {
      "text/html": [
       "<br>    <style><br>        .wandb-row {<br>            display: flex;<br>            flex-direction: row;<br>            flex-wrap: wrap;<br>            justify-content: flex-start;<br>            width: 100%;<br>        }<br>        .wandb-col {<br>            display: flex;<br>            flex-direction: column;<br>            flex-basis: 100%;<br>            flex: 1;<br>            padding: 10px;<br>        }<br>    </style><br><div class=\"wandb-row\"><div class=\"wandb-col\"><h3>Run history:</h3><br/><table class=\"wandb\"><tr><td>epoch</td><td>▁▁▁▁▂▂▂▂▂▂▃▃▃▃▃▄▄▄▄▄▅▅▅▅▅▅▆▆▆▆▆▇▇▇▇▇▇███</td></tr><tr><td>train/accuracy</td><td>▁▂▄▅▄▅▅▅▆▆▆▆▆▆▆▇▇▇▇▇▇▇▇▇▇▇▇▇▇▇██████████</td></tr><tr><td>train/iou</td><td>▁▂▂▃▃▃▄▄▄▄▅▅▅▅▅▆▆▆▆▆▇▆▇▇▇▇▇▇▇▇▇█▇███▇█▇█</td></tr><tr><td>train/loss</td><td>█▅▃▃▃▂▂▂▂▂▂▂▂▂▂▂▂▂▂▂▁▁▁▁▁▁▁▁▁▁▁▁▁▁▁▁▁▁▁▁</td></tr><tr><td>val/accuracy</td><td>▁▁▄▅▅▆▆▆▆▆▆▇▇▇▇▇▇▇▇▇▇▇▇▇▇███▇████▇██████</td></tr><tr><td>val/iou</td><td>▁▂▃▄▄▅▅▅▅▆▆▆▆▆▆▆▆▇▇▇▇█▇█▇▇██▇██▇███▇████</td></tr><tr><td>val/loss</td><td>█▄▃▃▂▂▂▂▂▂▂▂▂▁▁▁▁▁▁▁▁▁▁▁▁▁▁▁▁▁▁▁▁▁▁▁▁▁▁▁</td></tr></table><br/></div><div class=\"wandb-col\"><h3>Run summary:</h3><br/><table class=\"wandb\"><tr><td>epoch</td><td>50</td></tr><tr><td>train/accuracy</td><td>0.82526</td></tr><tr><td>train/iou</td><td>0.13539</td></tr><tr><td>train/loss</td><td>0.48342</td></tr><tr><td>val/accuracy</td><td>0.75808</td></tr><tr><td>val/iou</td><td>0.12774</td></tr><tr><td>val/loss</td><td>0.70965</td></tr></table><br/></div></div>"
      ],
      "text/plain": [
       "<IPython.core.display.HTML object>"
      ]
     },
     "metadata": {},
     "output_type": "display_data"
    },
    {
     "data": {
      "text/html": [
       " View run <strong style=\"color:#cdcd00\">run-patchwise-mode</strong> at: <a href='https://wandb.ai/thisisrmak-stanford/dinov2-biotic-nb-10/runs/h1pka3c3' target=\"_blank\">https://wandb.ai/thisisrmak-stanford/dinov2-biotic-nb-10/runs/h1pka3c3</a><br> View project at: <a href='https://wandb.ai/thisisrmak-stanford/dinov2-biotic-nb-10' target=\"_blank\">https://wandb.ai/thisisrmak-stanford/dinov2-biotic-nb-10</a><br>Synced 5 W&B file(s), 0 media file(s), 0 artifact file(s) and 0 other file(s)"
      ],
      "text/plain": [
       "<IPython.core.display.HTML object>"
      ]
     },
     "metadata": {},
     "output_type": "display_data"
    },
    {
     "data": {
      "text/html": [
       "Find logs at: <code>./wandb/run-20250611_130015-h1pka3c3/logs</code>"
      ],
      "text/plain": [
       "<IPython.core.display.HTML object>"
      ]
     },
     "metadata": {},
     "output_type": "display_data"
    }
   ],
   "source": [
    "wandb.init(\n",
    "    project=\"dinov2-biotic-nb-10\",\n",
    "    # name=\"run-patchwise-mode\",  # Optionally change per experiment\n",
    "    config={\n",
    "        \"num_classes\": 18,\n",
    "        \"batch_size\": 64,\n",
    "        \"num_iters\": 50,\n",
    "        \"hidden_dim\": 768,\n",
    "        \"lr\": 1e-3\n",
    "    }\n",
    ")\n",
    "\n",
    "config = wandb.config\n",
    "\n",
    "train_dataloader = DataLoader(train_dataset, batch_size=config.batch_size)\n",
    "test_dataloader = DataLoader(test_dataset, batch_size=config.batch_size)\n",
    "\n",
    "model = DINOPatchClassifier(num_classes=config.num_classes).to(device)\n",
    "optimizer = torch.optim.AdamW(model.parameters(), lr=config.lr)\n",
    "loss_fn = torch.nn.CrossEntropyLoss()\n",
    "\n",
    "for iter in range(config.num_iters):\n",
    "\n",
    "    ### TRAINING ###\n",
    "\n",
    "    model.train()\n",
    "    total_train_loss = 0.0\n",
    "    correct_train = 0\n",
    "    total_train = 0\n",
    "    total_train_iou = 0.0\n",
    "\n",
    "    pbar = tqdm(train_dataloader, desc=f\"Train Epoch {iter+1}/{config.num_iters}\")\n",
    "\n",
    "    for batch in pbar:\n",
    "        X_batch = batch[:, :-1]\n",
    "        Y_batch = batch[:, -1]\n",
    "\n",
    "        Y = get_patchwise_mode(Y_batch)\n",
    "        Y = rearrange(Y, 'n h w -> (n h w)')\n",
    "        Y = Y.to(device)\n",
    "\n",
    "        with torch.no_grad():\n",
    "            X = get_dino_tokens_batch(X_batch)  # [N, 3601, D=384]\n",
    "            X = X[:, 1:, :]  # drop CLS token\n",
    "            X = rearrange(X, 'n p d -> (n p) d')\n",
    "            X = X.to(device)\n",
    "\n",
    "        optimizer.zero_grad()\n",
    "        logits = model(X)\n",
    "        loss = loss_fn(logits, Y)\n",
    "        loss.backward()\n",
    "        optimizer.step()\n",
    "\n",
    "        # Stats\n",
    "        batch_loss = loss.item()\n",
    "        total_train_loss += batch_loss\n",
    "\n",
    "        preds = torch.argmax(logits, dim=1)\n",
    "        correct_train += (preds == Y).sum().item()\n",
    "        total_train += Y.size(0)\n",
    "\n",
    "        batch_iou = compute_iou(preds.cpu().numpy(), Y.cpu().numpy(), config.num_classes)\n",
    "        total_train_iou += batch_iou\n",
    "\n",
    "        pbar.set_postfix(loss=f\"{batch_loss:.2f}\", iou=f\"{batch_iou:.2f}\")\n",
    "\n",
    "    avg_train_loss = total_train_loss / len(train_dataloader)\n",
    "    avg_train_accuracy = correct_train / total_train\n",
    "    avg_train_iou = total_train_iou / len(train_dataloader)\n",
    "\n",
    "\n",
    "\n",
    "    # print(f\"Epoch {iter+1}: Train Loss={avg_train_loss:.4f}, Accuracy={avg_train_accuracy:.4f}, IoU={avg_train_iou:.4f}\")\n",
    "\n",
    "     ### VALIDATION ###\n",
    "\n",
    "    model.eval()\n",
    "    total_val_loss = 0.0\n",
    "    correct_val = 0\n",
    "    total_val = 0\n",
    "    total_val_iou = 0.0\n",
    "\n",
    "    with torch.no_grad():\n",
    "        pbar = tqdm(test_dataloader, desc=f\"Val Epoch {iter+1}/{config.num_iters}\")\n",
    "\n",
    "        for batch in pbar:\n",
    "            X_batch = batch[:, :-1]\n",
    "            Y_batch = batch[:, -1]\n",
    "\n",
    "            Y = get_patchwise_mode(Y_batch)\n",
    "            Y = rearrange(Y, 'n h w -> (n h w)').to(device)\n",
    "\n",
    "            X = get_dino_tokens_batch(X_batch)\n",
    "            X = X[:, 1:, :]\n",
    "            X = rearrange(X, 'n p d -> (n p) d').to(device)\n",
    "\n",
    "            logits = model(X)\n",
    "            loss = loss_fn(logits, Y)\n",
    "            batch_loss = loss.item()\n",
    "            total_val_loss += batch_loss\n",
    "\n",
    "            preds = torch.argmax(logits, dim=1)\n",
    "            correct_val += (preds == Y).sum().item()\n",
    "            total_val += Y.size(0)\n",
    "\n",
    "            batch_iou = compute_iou(preds.cpu().numpy(), Y.cpu().numpy(), config.num_classes)\n",
    "            total_val_iou += batch_iou\n",
    "\n",
    "            pbar.set_postfix(loss=f\"{batch_loss:.2f}\", iou=f\"{batch_iou:.2f}\")\n",
    "\n",
    "    avg_val_loss = total_val_loss / len(test_dataloader)\n",
    "    avg_val_accuracy = correct_val / total_val\n",
    "    avg_val_iou = total_val_iou / len(test_dataloader)\n",
    "\n",
    "    # ---------- LOGGING ----------\n",
    "    wandb.log({\n",
    "        \"epoch\": iter + 1,\n",
    "        \"train/loss\": avg_train_loss,\n",
    "        \"train/accuracy\": avg_train_accuracy,\n",
    "        \"train/iou\": avg_train_iou,\n",
    "        \"val/loss\": avg_val_loss,\n",
    "        \"val/accuracy\": avg_val_accuracy,\n",
    "        \"val/iou\": avg_val_iou\n",
    "    })\n",
    "    print()\n",
    "\n",
    "    print(f\"Epoch {iter+1}: \"\n",
    "          f\"Train Loss={avg_train_loss:.4f}, Acc={avg_train_accuracy:.4f}, IoU={avg_train_iou:.4f} | \"\n",
    "          f\"Val Loss={avg_val_loss:.4f}, Acc={avg_val_accuracy:.4f}, IoU={avg_val_iou:.4f}\")\n",
    "\n",
    "    print()\n",
    "\n",
    "    # Save model checkpoint every 5 epochs\n",
    "    if (iter + 1) % 5 == 0:\n",
    "        checkpoint = {\n",
    "            'model_state_dict': model.state_dict(),\n",
    "            'optimizer_state_dict': optimizer.state_dict(), \n",
    "            'epoch': iter,\n",
    "            'train_loss': avg_train_loss,\n",
    "            'val_loss': avg_val_loss,\n",
    "            'train_accuracy': avg_train_accuracy,\n",
    "            'val_accuracy': avg_val_accuracy,\n",
    "            'train_iou': avg_train_iou,\n",
    "            'val_iou': avg_val_iou\n",
    "        }\n",
    "        \n",
    "        torch.save(checkpoint, f'checkpoints/model_checkpoint_epoch_{iter+1}.pth')\n",
    "        print(f\"Saved model checkpoint to model_checkpoint_epoch_{iter+1}.pth\")\n",
    "\n",
    "\n",
    "wandb.finish()"
   ]
  },
  {
   "cell_type": "code",
   "execution_count": null,
   "metadata": {},
   "outputs": [],
   "source": [
    "# checkpoint = {\n",
    "#     'model_state_dict': model.state_dict(),\n",
    "#     'optimizer_state_dict': optimizer.state_dict(), \n",
    "#     'epoch': iter,\n",
    "#     'train_loss': avg_train_loss,\n",
    "#     'val_loss': avg_val_loss,\n",
    "#     'train_accuracy': avg_train_accuracy,\n",
    "#     'val_accuracy': avg_val_accuracy,\n",
    "#     'train_iou': avg_train_iou,\n",
    "#     'val_iou': avg_val_iou\n",
    "# }\n",
    "\n",
    "# torch.save(checkpoint, f'checkpoints/model_checkpoint_epoch_{iter+1}.pth')\n",
    "# print(f\"Saved model checkpoint to model_checkpoint_epoch_{iter+1}.pth\")\n"
   ]
  },
  {
   "cell_type": "code",
   "execution_count": null,
   "metadata": {},
   "outputs": [],
   "source": []
  }
 ],
 "metadata": {
  "kernelspec": {
   "display_name": "cs231n",
   "language": "python",
   "name": "python3"
  },
  "language_info": {
   "codemirror_mode": {
    "name": "ipython",
    "version": 3
   },
   "file_extension": ".py",
   "mimetype": "text/x-python",
   "name": "python",
   "nbconvert_exporter": "python",
   "pygments_lexer": "ipython3",
   "version": "3.11.13"
  }
 },
 "nbformat": 4,
 "nbformat_minor": 2
}
